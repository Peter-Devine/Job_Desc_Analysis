{
 "cells": [
  {
   "cell_type": "markdown",
   "metadata": {},
   "source": [
    "# How to run this notebook\n",
    "\n",
    "1. Download Kaggle via `pip install Kaggle`.\n",
    "2. Create a Kaggle account if you do not have one.\n",
    "3. Download your Kaggle API key by going to kaggle.com, clicking on \"My Account\", and then clicking \"Create New API Token\".\n",
    "4. Move this downloaded Kaggle API token to your Kaggle folder (Linux/Unix `~/.kaggle/`, Windows `C:\\Users\\<Windows-username>.kaggle\\`)\n",
    "5. Run the below cells"
   ]
  },
  {
   "cell_type": "code",
   "execution_count": 18,
   "metadata": {},
   "outputs": [
    {
     "name": "stdout",
     "output_type": "stream",
     "text": [
      "data-scientist-job-postings-from-the-usa.zip: Skipping, found more recently modified local copy (use --force to force download)\n",
      "us-jobs-on-monstercom.zip: Skipping, found more recently modified local copy (use --force to force download)\n",
      "Downloading usbased-jobs-from-dicecom.zip to D:\\UCL_Data_Driven\\Job_Desc_Analysis\n",
      "\n"
     ]
    },
    {
     "name": "stderr",
     "output_type": "stream",
     "text": [
      "\n",
      "  0%|          | 0.00/16.5M [00:00<?, ?B/s]\n",
      "  6%|6         | 1.00M/16.5M [00:00<00:04, 3.59MB/s]\n",
      " 12%|#2        | 2.00M/16.5M [00:00<00:03, 4.39MB/s]\n",
      " 18%|#8        | 3.00M/16.5M [00:00<00:02, 5.19MB/s]\n",
      " 24%|##4       | 4.00M/16.5M [00:00<00:03, 3.69MB/s]\n",
      " 36%|###6      | 6.00M/16.5M [00:01<00:02, 4.83MB/s]\n",
      " 42%|####2     | 7.00M/16.5M [00:01<00:01, 5.67MB/s]\n",
      " 48%|####8     | 8.00M/16.5M [00:01<00:01, 6.18MB/s]\n",
      " 55%|#####4    | 9.00M/16.5M [00:01<00:01, 5.10MB/s]\n",
      " 67%|######6   | 11.0M/16.5M [00:01<00:00, 6.40MB/s]\n",
      " 73%|#######2  | 12.0M/16.5M [00:01<00:00, 7.12MB/s]\n",
      " 79%|#######8  | 13.0M/16.5M [00:02<00:00, 7.64MB/s]\n",
      " 91%|######### | 15.0M/16.5M [00:02<00:00, 7.18MB/s]\n",
      " 97%|#########6| 16.0M/16.5M [00:02<00:00, 6.98MB/s]\n",
      "100%|##########| 16.5M/16.5M [00:02<00:00, 6.91MB/s]\n"
     ]
    },
    {
     "name": "stdout",
     "output_type": "stream",
     "text": [
      "Downloading jobposts.zip to D:\\UCL_Data_Driven\\Job_Desc_Analysis\n",
      "\n"
     ]
    },
    {
     "name": "stderr",
     "output_type": "stream",
     "text": [
      "\n",
      "  0%|          | 0.00/14.0M [00:00<?, ?B/s]\n",
      "  7%|7         | 1.00M/14.0M [00:00<00:04, 3.08MB/s]\n",
      " 21%|##1       | 3.00M/14.0M [00:00<00:03, 3.24MB/s]\n",
      " 29%|##8       | 4.00M/14.0M [00:01<00:02, 3.76MB/s]\n",
      " 43%|####2     | 6.00M/14.0M [00:01<00:01, 4.29MB/s]\n",
      " 64%|######4   | 9.00M/14.0M [00:01<00:00, 5.52MB/s]\n",
      " 71%|#######1  | 10.0M/14.0M [00:01<00:00, 6.43MB/s]\n",
      " 78%|#######8  | 11.0M/14.0M [00:01<00:00, 5.90MB/s]\n",
      " 86%|########5 | 12.0M/14.0M [00:02<00:00, 4.06MB/s]\n",
      "100%|#########9| 14.0M/14.0M [00:02<00:00, 5.19MB/s]\n",
      "100%|##########| 14.0M/14.0M [00:02<00:00, 5.88MB/s]\n"
     ]
    },
    {
     "name": "stdout",
     "output_type": "stream",
     "text": [
      "Downloading jobs-on-naukricom.zip to D:\\UCL_Data_Driven\\Job_Desc_Analysis\n",
      "\n"
     ]
    },
    {
     "name": "stderr",
     "output_type": "stream",
     "text": [
      "\n",
      "  0%|          | 0.00/13.6M [00:00<?, ?B/s]\n",
      "  7%|7         | 1.00M/13.6M [00:00<00:04, 3.18MB/s]\n",
      " 15%|#4        | 2.00M/13.6M [00:00<00:03, 3.94MB/s]\n",
      " 22%|##2       | 3.00M/13.6M [00:00<00:02, 4.07MB/s]\n",
      " 37%|###6      | 5.00M/13.6M [00:00<00:01, 4.62MB/s]\n",
      " 44%|####4     | 6.00M/13.6M [00:01<00:02, 3.78MB/s]\n",
      " 51%|#####1    | 7.00M/13.6M [00:01<00:02, 3.22MB/s]\n",
      " 66%|######6   | 9.00M/13.6M [00:02<00:01, 3.78MB/s]\n",
      " 73%|#######3  | 10.0M/13.6M [00:02<00:01, 3.77MB/s]\n",
      " 88%|########8 | 12.0M/13.6M [00:02<00:00, 4.19MB/s]\n",
      " 95%|#########5| 13.0M/13.6M [00:03<00:00, 4.41MB/s]\n",
      "100%|##########| 13.6M/13.6M [00:03<00:00, 4.22MB/s]\n",
      "100%|##########| 13.6M/13.6M [00:03<00:00, 4.48MB/s]\n"
     ]
    },
    {
     "name": "stdout",
     "output_type": "stream",
     "text": [
      "Downloading wuzzuf-job-posts.zip to D:\\UCL_Data_Driven\\Job_Desc_Analysis\n",
      "\n"
     ]
    },
    {
     "name": "stderr",
     "output_type": "stream",
     "text": [
      "\n",
      "  0%|          | 0.00/40.4M [00:00<?, ?B/s]\n",
      "  2%|2         | 1.00M/40.4M [00:00<00:10, 3.79MB/s]\n",
      "  5%|4         | 2.00M/40.4M [00:00<00:08, 4.61MB/s]\n",
      "  7%|7         | 3.00M/40.4M [00:00<00:08, 4.43MB/s]\n",
      " 10%|9         | 4.00M/40.4M [00:00<00:09, 4.10MB/s]\n",
      " 17%|#7        | 7.00M/40.4M [00:01<00:06, 5.28MB/s]\n",
      " 20%|#9        | 8.00M/40.4M [00:01<00:07, 4.66MB/s]\n",
      " 22%|##2       | 9.00M/40.4M [00:01<00:06, 5.22MB/s]\n",
      " 25%|##4       | 10.0M/40.4M [00:01<00:05, 5.68MB/s]\n",
      " 27%|##7       | 11.0M/40.4M [00:01<00:05, 5.86MB/s]\n",
      " 30%|##9       | 12.0M/40.4M [00:02<00:05, 5.52MB/s]\n",
      " 32%|###2      | 13.0M/40.4M [00:02<00:04, 6.07MB/s]\n",
      " 37%|###7      | 15.0M/40.4M [00:02<00:04, 6.47MB/s]\n",
      " 40%|###9      | 16.0M/40.4M [00:02<00:04, 6.13MB/s]\n",
      " 45%|####4     | 18.0M/40.4M [00:02<00:03, 7.52MB/s]\n",
      " 47%|####7     | 19.0M/40.4M [00:02<00:02, 8.19MB/s]\n",
      " 52%|#####2    | 21.0M/40.4M [00:03<00:02, 7.70MB/s]\n",
      " 55%|#####4    | 22.0M/40.4M [00:03<00:02, 7.37MB/s]\n",
      " 59%|#####9    | 24.0M/40.4M [00:03<00:02, 8.18MB/s]\n",
      " 64%|######4   | 26.0M/40.4M [00:03<00:01, 8.10MB/s]\n",
      " 67%|######6   | 27.0M/40.4M [00:04<00:01, 7.04MB/s]\n",
      " 72%|#######1  | 29.0M/40.4M [00:04<00:01, 8.12MB/s]\n",
      " 74%|#######4  | 30.0M/40.4M [00:04<00:01, 8.45MB/s]\n",
      " 77%|#######6  | 31.0M/40.4M [00:04<00:01, 8.69MB/s]\n",
      " 82%|########1 | 33.0M/40.4M [00:04<00:00, 8.33MB/s]\n",
      " 84%|########4 | 34.0M/40.4M [00:04<00:01, 6.62MB/s]\n",
      " 89%|########9 | 36.0M/40.4M [00:05<00:00, 8.05MB/s]\n",
      " 94%|#########4| 38.0M/40.4M [00:05<00:00, 8.77MB/s]\n",
      " 99%|#########9| 40.0M/40.4M [00:05<00:00, 9.06MB/s]\n",
      "100%|##########| 40.4M/40.4M [00:05<00:00, 7.67MB/s]\n"
     ]
    },
    {
     "name": "stdout",
     "output_type": "stream",
     "text": [
      "Downloading new-york-city-current-job-postings.zip to D:\\UCL_Data_Driven\\Job_Desc_Analysis\n",
      "\n"
     ]
    },
    {
     "name": "stderr",
     "output_type": "stream",
     "text": [
      "\n",
      "  0%|          | 0.00/2.63M [00:00<?, ?B/s]\n",
      " 38%|###8      | 1.00M/2.63M [00:00<00:00, 3.24MB/s]\n",
      " 76%|#######6  | 2.00M/2.63M [00:00<00:00, 4.05MB/s]\n",
      "100%|##########| 2.63M/2.63M [00:00<00:00, 5.65MB/s]\n"
     ]
    },
    {
     "name": "stdout",
     "output_type": "stream",
     "text": [
      "Downloading data-science-jobs-around-the-world.zip to D:\\UCL_Data_Driven\\Job_Desc_Analysis\n",
      "\n"
     ]
    },
    {
     "name": "stderr",
     "output_type": "stream",
     "text": [
      "\n",
      "  0%|          | 0.00/1.56M [00:00<?, ?B/s]\n",
      " 64%|######4   | 1.00M/1.56M [00:00<00:00, 3.66MB/s]\n",
      "100%|##########| 1.56M/1.56M [00:00<00:00, 4.28MB/s]\n"
     ]
    },
    {
     "name": "stdout",
     "output_type": "stream",
     "text": [
      "Downloading 50000-job-board-record-from-reed-uk.zip to D:\\UCL_Data_Driven\\Job_Desc_Analysis\n",
      "\n"
     ]
    },
    {
     "name": "stderr",
     "output_type": "stream",
     "text": [
      "\n",
      "  0%|          | 0.00/33.5M [00:00<?, ?B/s]\n",
      "  3%|2         | 1.00M/33.5M [00:00<00:09, 3.74MB/s]\n",
      "  6%|5         | 2.00M/33.5M [00:00<00:07, 4.61MB/s]\n",
      "  9%|8         | 3.00M/33.5M [00:00<00:07, 4.07MB/s]\n",
      " 18%|#7        | 6.00M/33.5M [00:00<00:05, 5.35MB/s]\n",
      " 24%|##3       | 8.00M/33.5M [00:01<00:04, 6.23MB/s]\n",
      " 27%|##6       | 9.00M/33.5M [00:01<00:05, 4.62MB/s]\n",
      " 33%|###2      | 11.0M/33.5M [00:01<00:04, 5.83MB/s]\n",
      " 36%|###5      | 12.0M/33.5M [00:01<00:04, 5.48MB/s]\n",
      " 39%|###8      | 13.0M/33.5M [00:01<00:03, 5.76MB/s]\n",
      " 45%|####4     | 15.0M/33.5M [00:02<00:03, 6.33MB/s]\n",
      " 51%|#####     | 17.0M/33.5M [00:02<00:02, 7.65MB/s]\n",
      " 54%|#####3    | 18.0M/33.5M [00:02<00:02, 7.91MB/s]\n",
      " 57%|#####6    | 19.0M/33.5M [00:02<00:02, 7.59MB/s]\n",
      " 60%|#####9    | 20.0M/33.5M [00:02<00:02, 6.92MB/s]\n",
      " 63%|######2   | 21.0M/33.5M [00:02<00:01, 6.88MB/s]\n",
      " 69%|######8   | 23.0M/33.5M [00:03<00:01, 7.11MB/s]\n",
      " 72%|#######1  | 24.0M/33.5M [00:03<00:01, 7.17MB/s]\n",
      " 75%|#######4  | 25.0M/33.5M [00:03<00:01, 6.68MB/s]\n",
      " 81%|########  | 27.0M/33.5M [00:03<00:00, 7.70MB/s]\n",
      " 83%|########3 | 28.0M/33.5M [00:03<00:00, 8.32MB/s]\n",
      " 86%|########6 | 29.0M/33.5M [00:04<00:00, 6.94MB/s]\n",
      " 92%|#########2| 31.0M/33.5M [00:04<00:00, 6.50MB/s]\n",
      " 95%|#########5| 32.0M/33.5M [00:04<00:00, 7.19MB/s]\n",
      "100%|##########| 33.5M/33.5M [00:04<00:00, 7.64MB/s]\n"
     ]
    },
    {
     "name": "stdout",
     "output_type": "stream",
     "text": [
      "Downloading usa-based-job-data-set-from-300-companies.zip to D:\\UCL_Data_Driven\\Job_Desc_Analysis\n",
      "\n"
     ]
    },
    {
     "name": "stderr",
     "output_type": "stream",
     "text": [
      "\n",
      "  0%|          | 0.00/12.4M [00:00<?, ?B/s]\n",
      "  8%|8         | 1.00M/12.4M [00:00<00:04, 2.72MB/s]\n",
      " 24%|##4       | 3.00M/12.4M [00:00<00:02, 3.34MB/s]\n",
      " 40%|####      | 5.00M/12.4M [00:01<00:02, 3.58MB/s]\n",
      " 73%|#######2  | 9.00M/12.4M [00:01<00:00, 4.75MB/s]\n",
      " 81%|########  | 10.0M/12.4M [00:01<00:00, 4.35MB/s]\n",
      " 97%|#########7| 12.0M/12.4M [00:01<00:00, 5.61MB/s]\n",
      "100%|##########| 12.4M/12.4M [00:01<00:00, 7.15MB/s]\n"
     ]
    }
   ],
   "source": [
    "! kaggle datasets download -d jobspikr/data-scientist-job-postings-from-the-usa\n",
    "! kaggle datasets download -d PromptCloudHQ/us-jobs-on-monstercom\n",
    "! kaggle datasets download -d PromptCloudHQ/usbased-jobs-from-dicecom\n",
    "! kaggle datasets download -d madhab/jobposts\n",
    "! kaggle datasets download -d PromptCloudHQ/jobs-on-naukricom\n",
    "! kaggle datasets download -d WUZZUF/wuzzuf-job-posts\n",
    "! kaggle datasets download -d new-york-city/new-york-city-current-job-postings\n",
    "! kaggle datasets download -d jonatancr/data-science-jobs-around-the-world\n",
    "! kaggle datasets download -d jobspikr/50000-job-board-record-from-reed-uk\n",
    "! kaggle datasets download -d JobsPikrHQ/usa-based-job-data-set-from-300-companies "
   ]
  },
  {
   "cell_type": "code",
   "execution_count": 24,
   "metadata": {},
   "outputs": [],
   "source": [
    "import zipfile\n",
    "\n",
    "def extract_to_data_folder(zip_path):\n",
    "    with zipfile.ZipFile(zip_path, 'r') as zip_ref:\n",
    "        zip_ref.extractall(\"./data\")"
   ]
  },
  {
   "cell_type": "code",
   "execution_count": 25,
   "metadata": {},
   "outputs": [],
   "source": [
    "extract_to_data_folder(\"data-scientist-job-postings-from-the-usa.zip\")\n",
    "extract_to_data_folder(\"us-jobs-on-monstercom.zip\")\n",
    "extract_to_data_folder(\"usbased-jobs-from-dicecom.zip\")\n",
    "extract_to_data_folder(\"jobposts.zip\")\n",
    "extract_to_data_folder(\"jobs-on-naukricom.zip\")\n",
    "extract_to_data_folder(\"wuzzuf-job-posts.zip\")\n",
    "extract_to_data_folder(\"new-york-city-current-job-postings.zip\")\n",
    "extract_to_data_folder(\"data-science-jobs-around-the-world.zip\")\n",
    "extract_to_data_folder(\"50000-job-board-record-from-reed-uk.zip\")\n",
    "extract_to_data_folder(\"usa-based-job-data-set-from-300-companies.zip\")"
   ]
  },
  {
   "cell_type": "code",
   "execution_count": 27,
   "metadata": {},
   "outputs": [],
   "source": [
    "import pandas as pd\n",
    "data_jobs = pd.read_csv(\"data/data_scientist_united_states_job_postings_jobspikr.csv\")"
   ]
  },
  {
   "cell_type": "code",
   "execution_count": 29,
   "metadata": {},
   "outputs": [],
   "source": [
    "monster_jobs = pd.read_csv(\"data/monster_com-job_sample.csv\")"
   ]
  },
  {
   "cell_type": "code",
   "execution_count": 33,
   "metadata": {},
   "outputs": [
    {
     "data": {
      "text/html": [
       "<div>\n",
       "<style scoped>\n",
       "    .dataframe tbody tr th:only-of-type {\n",
       "        vertical-align: middle;\n",
       "    }\n",
       "\n",
       "    .dataframe tbody tr th {\n",
       "        vertical-align: top;\n",
       "    }\n",
       "\n",
       "    .dataframe thead th {\n",
       "        text-align: right;\n",
       "    }\n",
       "</style>\n",
       "<table border=\"1\" class=\"dataframe\">\n",
       "  <thead>\n",
       "    <tr style=\"text-align: right;\">\n",
       "      <th></th>\n",
       "      <th>country</th>\n",
       "      <th>country_code</th>\n",
       "      <th>date_added</th>\n",
       "      <th>has_expired</th>\n",
       "      <th>job_board</th>\n",
       "      <th>job_description</th>\n",
       "      <th>job_title</th>\n",
       "      <th>job_type</th>\n",
       "      <th>location</th>\n",
       "      <th>organization</th>\n",
       "      <th>page_url</th>\n",
       "      <th>salary</th>\n",
       "      <th>sector</th>\n",
       "      <th>uniq_id</th>\n",
       "    </tr>\n",
       "  </thead>\n",
       "  <tbody>\n",
       "    <tr>\n",
       "      <td>0</td>\n",
       "      <td>United States of America</td>\n",
       "      <td>US</td>\n",
       "      <td>NaN</td>\n",
       "      <td>No</td>\n",
       "      <td>jobs.monster.com</td>\n",
       "      <td>TeamSoft is seeing an IT Support Specialist to...</td>\n",
       "      <td>IT Support Technician Job in Madison</td>\n",
       "      <td>Full Time Employee</td>\n",
       "      <td>Madison, WI 53702</td>\n",
       "      <td>NaN</td>\n",
       "      <td>http://jobview.monster.com/it-support-technici...</td>\n",
       "      <td>NaN</td>\n",
       "      <td>IT/Software Development</td>\n",
       "      <td>11d599f229a80023d2f40e7c52cd941e</td>\n",
       "    </tr>\n",
       "    <tr>\n",
       "      <td>1</td>\n",
       "      <td>United States of America</td>\n",
       "      <td>US</td>\n",
       "      <td>NaN</td>\n",
       "      <td>No</td>\n",
       "      <td>jobs.monster.com</td>\n",
       "      <td>The Wisconsin State Journal is seeking a flexi...</td>\n",
       "      <td>Business Reporter/Editor Job in Madison</td>\n",
       "      <td>Full Time</td>\n",
       "      <td>Madison, WI 53708</td>\n",
       "      <td>Printing and Publishing</td>\n",
       "      <td>http://jobview.monster.com/business-reporter-e...</td>\n",
       "      <td>NaN</td>\n",
       "      <td>NaN</td>\n",
       "      <td>e4cbb126dabf22159aff90223243ff2a</td>\n",
       "    </tr>\n",
       "    <tr>\n",
       "      <td>2</td>\n",
       "      <td>United States of America</td>\n",
       "      <td>US</td>\n",
       "      <td>NaN</td>\n",
       "      <td>No</td>\n",
       "      <td>jobs.monster.com</td>\n",
       "      <td>Report this job About the Job DePuy Synthes Co...</td>\n",
       "      <td>Johnson &amp; Johnson Family of Companies Job Appl...</td>\n",
       "      <td>Full Time, Employee</td>\n",
       "      <td>DePuy Synthes Companies is a member of Johnson...</td>\n",
       "      <td>Personal and Household Services</td>\n",
       "      <td>http://jobview.monster.com/senior-training-lea...</td>\n",
       "      <td>NaN</td>\n",
       "      <td>NaN</td>\n",
       "      <td>839106b353877fa3d896ffb9c1fe01c0</td>\n",
       "    </tr>\n",
       "    <tr>\n",
       "      <td>3</td>\n",
       "      <td>United States of America</td>\n",
       "      <td>US</td>\n",
       "      <td>NaN</td>\n",
       "      <td>No</td>\n",
       "      <td>jobs.monster.com</td>\n",
       "      <td>Why Join Altec? If you’re considering a career...</td>\n",
       "      <td>Engineer - Quality Job in Dixon</td>\n",
       "      <td>Full Time</td>\n",
       "      <td>Dixon, CA</td>\n",
       "      <td>Altec Industries</td>\n",
       "      <td>http://jobview.monster.com/engineer-quality-jo...</td>\n",
       "      <td>NaN</td>\n",
       "      <td>Experienced (Non-Manager)</td>\n",
       "      <td>58435fcab804439efdcaa7ecca0fd783</td>\n",
       "    </tr>\n",
       "    <tr>\n",
       "      <td>4</td>\n",
       "      <td>United States of America</td>\n",
       "      <td>US</td>\n",
       "      <td>NaN</td>\n",
       "      <td>No</td>\n",
       "      <td>jobs.monster.com</td>\n",
       "      <td>Position ID#  76162 # Positions  1 State  CT C...</td>\n",
       "      <td>Shift Supervisor - Part-Time Job in Camphill</td>\n",
       "      <td>Full Time Employee</td>\n",
       "      <td>Camphill, PA</td>\n",
       "      <td>Retail</td>\n",
       "      <td>http://jobview.monster.com/shift-supervisor-pa...</td>\n",
       "      <td>NaN</td>\n",
       "      <td>Project/Program Management</td>\n",
       "      <td>64d0272dc8496abfd9523a8df63c184c</td>\n",
       "    </tr>\n",
       "  </tbody>\n",
       "</table>\n",
       "</div>"
      ],
      "text/plain": [
       "                    country country_code date_added has_expired  \\\n",
       "0  United States of America           US        NaN          No   \n",
       "1  United States of America           US        NaN          No   \n",
       "2  United States of America           US        NaN          No   \n",
       "3  United States of America           US        NaN          No   \n",
       "4  United States of America           US        NaN          No   \n",
       "\n",
       "          job_board                                    job_description  \\\n",
       "0  jobs.monster.com  TeamSoft is seeing an IT Support Specialist to...   \n",
       "1  jobs.monster.com  The Wisconsin State Journal is seeking a flexi...   \n",
       "2  jobs.monster.com  Report this job About the Job DePuy Synthes Co...   \n",
       "3  jobs.monster.com  Why Join Altec? If you’re considering a career...   \n",
       "4  jobs.monster.com  Position ID#  76162 # Positions  1 State  CT C...   \n",
       "\n",
       "                                           job_title             job_type  \\\n",
       "0               IT Support Technician Job in Madison   Full Time Employee   \n",
       "1            Business Reporter/Editor Job in Madison            Full Time   \n",
       "2  Johnson & Johnson Family of Companies Job Appl...  Full Time, Employee   \n",
       "3                    Engineer - Quality Job in Dixon            Full Time   \n",
       "4       Shift Supervisor - Part-Time Job in Camphill   Full Time Employee   \n",
       "\n",
       "                                            location  \\\n",
       "0                                  Madison, WI 53702   \n",
       "1                                  Madison, WI 53708   \n",
       "2  DePuy Synthes Companies is a member of Johnson...   \n",
       "3                                          Dixon, CA   \n",
       "4                                       Camphill, PA   \n",
       "\n",
       "                      organization  \\\n",
       "0                              NaN   \n",
       "1          Printing and Publishing   \n",
       "2  Personal and Household Services   \n",
       "3                 Altec Industries   \n",
       "4                           Retail   \n",
       "\n",
       "                                            page_url salary  \\\n",
       "0  http://jobview.monster.com/it-support-technici...    NaN   \n",
       "1  http://jobview.monster.com/business-reporter-e...    NaN   \n",
       "2  http://jobview.monster.com/senior-training-lea...    NaN   \n",
       "3  http://jobview.monster.com/engineer-quality-jo...    NaN   \n",
       "4  http://jobview.monster.com/shift-supervisor-pa...    NaN   \n",
       "\n",
       "                       sector                           uniq_id  \n",
       "0     IT/Software Development  11d599f229a80023d2f40e7c52cd941e  \n",
       "1                         NaN  e4cbb126dabf22159aff90223243ff2a  \n",
       "2                         NaN  839106b353877fa3d896ffb9c1fe01c0  \n",
       "3   Experienced (Non-Manager)  58435fcab804439efdcaa7ecca0fd783  \n",
       "4  Project/Program Management  64d0272dc8496abfd9523a8df63c184c  "
      ]
     },
     "execution_count": 33,
     "metadata": {},
     "output_type": "execute_result"
    }
   ],
   "source": [
    "monster_jobs.head()"
   ]
  },
  {
   "cell_type": "code",
   "execution_count": 49,
   "metadata": {},
   "outputs": [],
   "source": [
    "word_counts = data_jobs.job_description.str.lower().str.split(expand=True).stack().value_counts()"
   ]
  },
  {
   "cell_type": "code",
   "execution_count": 51,
   "metadata": {},
   "outputs": [],
   "source": [
    "import nltk\n",
    "from nltk.corpus import stopwords\n",
    "\n",
    "word_counts = word_counts[~word_counts.index.isin(set(stopwords.words('english')))]"
   ]
  },
  {
   "cell_type": "code",
   "execution_count": 158,
   "metadata": {},
   "outputs": [
    {
     "name": "stderr",
     "output_type": "stream",
     "text": [
      "[nltk_data] Downloading package punkt to\n",
      "[nltk_data]     C:\\Users\\Peter\\AppData\\Roaming\\nltk_data...\n",
      "[nltk_data]   Package punkt is already up-to-date!\n"
     ]
    }
   ],
   "source": [
    "nltk.download('punkt')\n",
    "\n",
    "tokens = data_jobs.job_description.str.lower().apply(nltk.word_tokenize).apply(pd.Series).stack().reset_index(drop=True)\n",
    "\n",
    "#Create your ngrams\n",
    "ngs = nltk.trigrams(tokens)\n",
    "\n",
    "#compute frequency distribution for all the ngrams in the text\n",
    "fdist = nltk.FreqDist(ngs)"
   ]
  },
  {
   "cell_type": "code",
   "execution_count": 170,
   "metadata": {},
   "outputs": [],
   "source": [
    "import string\n",
    "\n",
    "sw = set(stopwords.words('english'))\n",
    "for punctuation in list(string.punctuation):\n",
    "    sw.add(punctuation)"
   ]
  },
  {
   "cell_type": "code",
   "execution_count": 165,
   "metadata": {},
   "outputs": [],
   "source": [
    "n_gram_series = pd.Series(list(fdist.values()), index = list(fdist.keys()))"
   ]
  },
  {
   "cell_type": "code",
   "execution_count": 171,
   "metadata": {},
   "outputs": [],
   "source": [
    "n_gram_counts = n_gram_series[n_gram_series.index.map(lambda x: all([word not in sw for word in x]))].sort_values(ascending =False)"
   ]
  },
  {
   "cell_type": "code",
   "execution_count": 175,
   "metadata": {},
   "outputs": [
    {
     "data": {
      "text/plain": [
       "(equal, opportunity, employer)                 2749\n",
       "(--, --, --)                                   2729\n",
       "(employment, without, regard)                  1958\n",
       "(senior, data, scientist)                      1868\n",
       "(job, summary, location)                       1851\n",
       "(natural, language, processing)                1796\n",
       "(machine, learning, techniques)                1745\n",
       "(protected, veteran, status)                   1710\n",
       "(large, data, sets)                            1521\n",
       "(machine, learning, algorithms)                1429\n",
       "(machine, learning, models)                    1420\n",
       "(bachelor, 's, degree)                         1324\n",
       "(master, 's, degree)                           1131\n",
       "(data, science, team)                          1062\n",
       "(type, full, time)                              924\n",
       "(job, type, full)                               885\n",
       "(written, communication, skills)                834\n",
       "(posted, today, reference)                      711\n",
       "(today, reference, code)                        711\n",
       "(complex, data, sets)                           683\n",
       "(data, visualization, tools)                    679\n",
       "(equal, employment, opportunity)                658\n",
       "(please, apply, today)                          652\n",
       "(opportunity/affirmative, action, employer)     591\n",
       "(verbal, communication, skills)                 585\n",
       "(exploratory, data, analysis)                   574\n",
       "(proven, track, record)                         553\n",
       "(machine, learning, methods)                    539\n",
       "(big, data, technologies)                       535\n",
       "(problem, solving, skills)                      533\n",
       "(lead, data, scientist)                         532\n",
       "(data, mining, techniques)                      526\n",
       "(equal, opportunity/affirmative, action)        505\n",
       "(data, science, solutions)                      502\n",
       "(posted, today, industries)                     485\n",
       "(years, ’, experience)                          481\n",
       "(data, science, experience)                     477\n",
       "(complex, business, problems)                   472\n",
       "(using, machine, learning)                      463\n",
       "(amazon, web, services)                         448\n",
       "(data, science, projects)                       440\n",
       "(new, data, sources)                            426\n",
       "(employee, posted, today)                       423\n",
       "(employment, eligibility, verification)         419\n",
       "(relevant, work, experience)                    418\n",
       "(principal, data, scientist)                    409\n",
       "(career, level, experienced)                    400\n",
       "(experienced, data, scientist)                  398\n",
       "(big, data, environment)                        392\n",
       "(affirmative, action, employer)                 383\n",
       "dtype: int64"
      ]
     },
     "execution_count": 175,
     "metadata": {},
     "output_type": "execute_result"
    }
   ],
   "source": [
    "n_gram_counts[0:50]"
   ]
  }
 ],
 "metadata": {
  "kernelspec": {
   "display_name": "Python 3",
   "language": "python",
   "name": "python3"
  },
  "language_info": {
   "codemirror_mode": {
    "name": "ipython",
    "version": 3
   },
   "file_extension": ".py",
   "mimetype": "text/x-python",
   "name": "python",
   "nbconvert_exporter": "python",
   "pygments_lexer": "ipython3",
   "version": "3.7.4"
  }
 },
 "nbformat": 4,
 "nbformat_minor": 2
}
